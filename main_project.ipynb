{
 "cells": [
  {
   "cell_type": "markdown",
   "metadata": {},
   "source": [
    "- Факторы которые влияют на энергопотребление? - почему?\n",
    "- найти факторы и сделать рейтинг факторов\n",
    "- Один дом, один файл.\n",
    "- PDF и код юпитера\n",
    "- К репозиторию файл README\n"
   ]
  },
  {
   "cell_type": "markdown",
   "metadata": {},
   "source": [
    "### Инициализация и загрузка данных"
   ]
  },
  {
   "cell_type": "code",
   "execution_count": 1,
   "metadata": {},
   "outputs": [],
   "source": [
    "import pandas as pd\n",
    "\n",
    "# Относительный путь к папке где лежать файлы\n",
    "smart_meters_folder_path = 'smart-meters-in-london/'\n",
    "\n",
    "# Получение полного пути файла\n",
    "file_acorn_details = '{}acorn_details.csv'.format(smart_meters_folder_path)\n",
    "file_uk_bank_holidays = '{}uk_bank_holidays.csv'.format(smart_meters_folder_path)\n",
    "file_weather_daily_darksky = '{}weather_daily_darksky.csv'.format(smart_meters_folder_path)\n",
    "file_weather_hourly_darksky = '{}weather_hourly_darksky.csv'.format(smart_meters_folder_path)\n",
    "file_informations_households = '{}informations_households.csv'.format(smart_meters_folder_path)\n",
    "file_daily_dataset = '{}daily_dataset.csv/daily_dataset.csv'.format(smart_meters_folder_path)\n",
    "\n",
    "# Загрузка файлов в Pandas\n",
    "df_acorn_details = pd.read_csv(file_acorn_details, encoding='ANSI')\n",
    "df_uk_bank_holidays = pd.read_csv(file_uk_bank_holidays, encoding='ANSI')\n",
    "df_weather_daily_darksky = pd.read_csv(file_weather_daily_darksky, encoding='ANSI')\n",
    "df_weather_hourly_darksky = pd.read_csv(file_weather_hourly_darksky, encoding='ANSI')\n",
    "df_informations_households = pd.read_csv(file_informations_households, encoding='ANSI')\n",
    "df_daily_dataset = pd.read_csv(file_daily_dataset, encoding='ANSI')"
   ]
  },
  {
   "cell_type": "code",
   "execution_count": null,
   "metadata": {},
   "outputs": [],
   "source": [
    "df_daily_dataset.head()"
   ]
  },
  {
   "cell_type": "code",
   "execution_count": null,
   "metadata": {},
   "outputs": [],
   "source": [
    "df_informations_households.head()"
   ]
  },
  {
   "cell_type": "markdown",
   "metadata": {},
   "source": [
    "### Тип счетчика в зависимости от класса ACORN\n",
    "Хочу получить процентное соотношение ToU/Std в зависимости от класса"
   ]
  },
  {
   "cell_type": "code",
   "execution_count": 4,
   "metadata": {},
   "outputs": [],
   "source": [
    "altered_df_informations_households = df_informations_households.loc[:][:]"
   ]
  },
  {
   "cell_type": "code",
   "execution_count": 5,
   "metadata": {},
   "outputs": [],
   "source": [
    "def count_ToU(row):\n",
    "    if row['stdorToU'] == 'ToU':\n",
    "        return 1\n",
    "    return 0\n",
    "\n",
    "def count_Std(row):\n",
    "    if row['stdorToU'] == 'Std':\n",
    "        return 1\n",
    "    return 0\n",
    "\n",
    "def ToU_percentage(row):\n",
    "    return row['ToU'] / (row['ToU'] + row['Std'])"
   ]
  },
  {
   "cell_type": "code",
   "execution_count": 6,
   "metadata": {},
   "outputs": [],
   "source": [
    "altered_df_informations_households['ToU'] = df_informations_households.apply(count_ToU, axis=1)\n",
    "altered_df_informations_households['Std'] = df_informations_households.apply(count_Std, axis=1)"
   ]
  },
  {
   "cell_type": "code",
   "execution_count": null,
   "metadata": {},
   "outputs": [],
   "source": [
    "altered_df_informations_households.head()"
   ]
  },
  {
   "cell_type": "code",
   "execution_count": 8,
   "metadata": {},
   "outputs": [],
   "source": [
    "counter_type_stats = altered_df_informations_households.groupby(by = 'Acorn')['ToU', 'Std'].sum()\n",
    "counter_type_stats['ToU_perc'] = counter_type_stats.apply(ToU_percentage, axis=1)"
   ]
  },
  {
   "cell_type": "markdown",
   "metadata": {},
   "source": [
    "### Процент счетчиков ToU в зависимости от класса"
   ]
  },
  {
   "cell_type": "code",
   "execution_count": 9,
   "metadata": {},
   "outputs": [
    {
     "data": {
      "text/plain": [
       "Acorn\n",
       "ACORN-     1.000000\n",
       "ACORN-A    0.248408\n",
       "ACORN-B    0.160000\n",
       "ACORN-C    0.231788\n",
       "ACORN-D    0.250000\n",
       "ACORN-E    0.216337\n",
       "ACORN-F    0.223684\n",
       "ACORN-G    0.229268\n",
       "ACORN-H    0.184615\n",
       "ACORN-I    0.156863\n",
       "ACORN-J    0.276786\n",
       "ACORN-K    0.133333\n",
       "ACORN-L    0.222222\n",
       "ACORN-M    0.150442\n",
       "ACORN-N    0.171053\n",
       "ACORN-O    0.155340\n",
       "ACORN-P    0.200000\n",
       "ACORN-Q    0.143201\n",
       "ACORN-U    0.204082\n",
       "Name: ToU_perc, dtype: float64"
      ]
     },
     "execution_count": 9,
     "metadata": {},
     "output_type": "execute_result"
    }
   ],
   "source": [
    "counter_type_stats['ToU_perc']"
   ]
  },
  {
   "cell_type": "code",
   "execution_count": null,
   "metadata": {
    "scrolled": true
   },
   "outputs": [],
   "source": [
    "altered_df_informations_households.groupby(by = 'Acorn')['ToU', 'Std'].sum()"
   ]
  },
  {
   "cell_type": "markdown",
   "metadata": {},
   "source": [
    "### Расчет среднего потребления энергии в зависимости от класса"
   ]
  },
  {
   "cell_type": "code",
   "execution_count": 11,
   "metadata": {},
   "outputs": [],
   "source": [
    "daily_dataset_with_hh_info = df_daily_dataset.merge(df_informations_households, how = 'left', on = 'LCLid')"
   ]
  },
  {
   "cell_type": "code",
   "execution_count": null,
   "metadata": {},
   "outputs": [],
   "source": [
    "# daily_dataset_with_hh_info[ daily_dataset_with_hh_info['energy_count'] == 48].head()"
   ]
  },
  {
   "cell_type": "markdown",
   "metadata": {},
   "source": [
    "Просмотр минимальных и максимальных дат по каждому классу"
   ]
  },
  {
   "cell_type": "code",
   "execution_count": null,
   "metadata": {},
   "outputs": [],
   "source": [
    "# daily_dataset_with_hh_info[ daily_dataset_with_hh_info['energy_count'] == 48][['Acorn', 'day']]\\\n",
    "# .groupby(by = 'Acorn')['day'].agg([min, max])"
   ]
  },
  {
   "cell_type": "markdown",
   "metadata": {},
   "source": [
    "#### Предварительный результат:\n",
    "нужно чтобы совпадал диапазон дат для каждого класса\n",
    "и нужно как то посмотреть не пропущены ли показания счетчиков в промежутке в этом диапазоне"
   ]
  },
  {
   "cell_type": "code",
   "execution_count": 23,
   "metadata": {},
   "outputs": [
    {
     "data": {
      "text/html": [
       "<div>\n",
       "<style scoped>\n",
       "    .dataframe tbody tr th:only-of-type {\n",
       "        vertical-align: middle;\n",
       "    }\n",
       "\n",
       "    .dataframe tbody tr th {\n",
       "        vertical-align: top;\n",
       "    }\n",
       "\n",
       "    .dataframe thead th {\n",
       "        text-align: right;\n",
       "    }\n",
       "</style>\n",
       "<table border=\"1\" class=\"dataframe\">\n",
       "  <thead>\n",
       "    <tr style=\"text-align: right;\">\n",
       "      <th></th>\n",
       "      <th></th>\n",
       "      <th>energy_sum</th>\n",
       "      <th>energy_max</th>\n",
       "    </tr>\n",
       "    <tr>\n",
       "      <th>Acorn</th>\n",
       "      <th>stdorToU</th>\n",
       "      <th></th>\n",
       "      <th></th>\n",
       "    </tr>\n",
       "  </thead>\n",
       "  <tbody>\n",
       "    <tr>\n",
       "      <th rowspan=\"2\" valign=\"top\">ACORN-A</th>\n",
       "      <th>Std</th>\n",
       "      <td>20.176322</td>\n",
       "      <td>1.310320</td>\n",
       "    </tr>\n",
       "    <tr>\n",
       "      <th>ToU</th>\n",
       "      <td>15.983221</td>\n",
       "      <td>1.079479</td>\n",
       "    </tr>\n",
       "    <tr>\n",
       "      <th rowspan=\"2\" valign=\"top\">ACORN-B</th>\n",
       "      <th>Std</th>\n",
       "      <td>11.362745</td>\n",
       "      <td>0.862655</td>\n",
       "    </tr>\n",
       "    <tr>\n",
       "      <th>ToU</th>\n",
       "      <td>14.816028</td>\n",
       "      <td>1.055368</td>\n",
       "    </tr>\n",
       "    <tr>\n",
       "      <th rowspan=\"2\" valign=\"top\">ACORN-C</th>\n",
       "      <th>Std</th>\n",
       "      <td>12.466021</td>\n",
       "      <td>0.969860</td>\n",
       "    </tr>\n",
       "    <tr>\n",
       "      <th>ToU</th>\n",
       "      <td>10.360740</td>\n",
       "      <td>0.937053</td>\n",
       "    </tr>\n",
       "    <tr>\n",
       "      <th rowspan=\"2\" valign=\"top\">ACORN-D</th>\n",
       "      <th>Std</th>\n",
       "      <td>13.898305</td>\n",
       "      <td>1.004958</td>\n",
       "    </tr>\n",
       "    <tr>\n",
       "      <th>ToU</th>\n",
       "      <td>12.837010</td>\n",
       "      <td>0.980037</td>\n",
       "    </tr>\n",
       "    <tr>\n",
       "      <th rowspan=\"2\" valign=\"top\">ACORN-E</th>\n",
       "      <th>Std</th>\n",
       "      <td>10.668145</td>\n",
       "      <td>0.876887</td>\n",
       "    </tr>\n",
       "    <tr>\n",
       "      <th>ToU</th>\n",
       "      <td>9.392043</td>\n",
       "      <td>0.800718</td>\n",
       "    </tr>\n",
       "    <tr>\n",
       "      <th rowspan=\"2\" valign=\"top\">ACORN-F</th>\n",
       "      <th>Std</th>\n",
       "      <td>9.371257</td>\n",
       "      <td>0.756990</td>\n",
       "    </tr>\n",
       "    <tr>\n",
       "      <th>ToU</th>\n",
       "      <td>8.711803</td>\n",
       "      <td>0.716672</td>\n",
       "    </tr>\n",
       "    <tr>\n",
       "      <th rowspan=\"2\" valign=\"top\">ACORN-G</th>\n",
       "      <th>Std</th>\n",
       "      <td>10.555980</td>\n",
       "      <td>0.908733</td>\n",
       "    </tr>\n",
       "    <tr>\n",
       "      <th>ToU</th>\n",
       "      <td>9.019109</td>\n",
       "      <td>0.780881</td>\n",
       "    </tr>\n",
       "    <tr>\n",
       "      <th rowspan=\"2\" valign=\"top\">ACORN-H</th>\n",
       "      <th>Std</th>\n",
       "      <td>11.227942</td>\n",
       "      <td>0.893085</td>\n",
       "    </tr>\n",
       "    <tr>\n",
       "      <th>ToU</th>\n",
       "      <td>10.225540</td>\n",
       "      <td>0.811497</td>\n",
       "    </tr>\n",
       "    <tr>\n",
       "      <th rowspan=\"2\" valign=\"top\">ACORN-I</th>\n",
       "      <th>Std</th>\n",
       "      <td>9.429555</td>\n",
       "      <td>0.798303</td>\n",
       "    </tr>\n",
       "    <tr>\n",
       "      <th>ToU</th>\n",
       "      <td>9.713887</td>\n",
       "      <td>0.834904</td>\n",
       "    </tr>\n",
       "    <tr>\n",
       "      <th rowspan=\"2\" valign=\"top\">ACORN-J</th>\n",
       "      <th>Std</th>\n",
       "      <td>12.035216</td>\n",
       "      <td>1.152796</td>\n",
       "    </tr>\n",
       "    <tr>\n",
       "      <th>ToU</th>\n",
       "      <td>9.666608</td>\n",
       "      <td>0.852311</td>\n",
       "    </tr>\n",
       "    <tr>\n",
       "      <th rowspan=\"2\" valign=\"top\">ACORN-K</th>\n",
       "      <th>Std</th>\n",
       "      <td>10.047962</td>\n",
       "      <td>0.832264</td>\n",
       "    </tr>\n",
       "    <tr>\n",
       "      <th>ToU</th>\n",
       "      <td>10.130785</td>\n",
       "      <td>0.770944</td>\n",
       "    </tr>\n",
       "    <tr>\n",
       "      <th rowspan=\"2\" valign=\"top\">ACORN-L</th>\n",
       "      <th>Std</th>\n",
       "      <td>10.330252</td>\n",
       "      <td>0.840907</td>\n",
       "    </tr>\n",
       "    <tr>\n",
       "      <th>ToU</th>\n",
       "      <td>9.132298</td>\n",
       "      <td>0.839893</td>\n",
       "    </tr>\n",
       "    <tr>\n",
       "      <th rowspan=\"2\" valign=\"top\">ACORN-M</th>\n",
       "      <th>Std</th>\n",
       "      <td>9.903523</td>\n",
       "      <td>0.850123</td>\n",
       "    </tr>\n",
       "    <tr>\n",
       "      <th>ToU</th>\n",
       "      <td>10.828620</td>\n",
       "      <td>0.924430</td>\n",
       "    </tr>\n",
       "    <tr>\n",
       "      <th rowspan=\"2\" valign=\"top\">ACORN-N</th>\n",
       "      <th>Std</th>\n",
       "      <td>9.194234</td>\n",
       "      <td>0.788204</td>\n",
       "    </tr>\n",
       "    <tr>\n",
       "      <th>ToU</th>\n",
       "      <td>9.579152</td>\n",
       "      <td>0.779315</td>\n",
       "    </tr>\n",
       "    <tr>\n",
       "      <th rowspan=\"2\" valign=\"top\">ACORN-O</th>\n",
       "      <th>Std</th>\n",
       "      <td>8.544080</td>\n",
       "      <td>0.770820</td>\n",
       "    </tr>\n",
       "    <tr>\n",
       "      <th>ToU</th>\n",
       "      <td>8.766600</td>\n",
       "      <td>0.834252</td>\n",
       "    </tr>\n",
       "    <tr>\n",
       "      <th rowspan=\"2\" valign=\"top\">ACORN-P</th>\n",
       "      <th>Std</th>\n",
       "      <td>7.321499</td>\n",
       "      <td>0.851204</td>\n",
       "    </tr>\n",
       "    <tr>\n",
       "      <th>ToU</th>\n",
       "      <td>3.849519</td>\n",
       "      <td>0.411216</td>\n",
       "    </tr>\n",
       "    <tr>\n",
       "      <th rowspan=\"2\" valign=\"top\">ACORN-Q</th>\n",
       "      <th>Std</th>\n",
       "      <td>7.651949</td>\n",
       "      <td>0.681974</td>\n",
       "    </tr>\n",
       "    <tr>\n",
       "      <th>ToU</th>\n",
       "      <td>7.277686</td>\n",
       "      <td>0.623380</td>\n",
       "    </tr>\n",
       "    <tr>\n",
       "      <th rowspan=\"2\" valign=\"top\">ACORN-U</th>\n",
       "      <th>Std</th>\n",
       "      <td>11.877796</td>\n",
       "      <td>0.906375</td>\n",
       "    </tr>\n",
       "    <tr>\n",
       "      <th>ToU</th>\n",
       "      <td>10.913723</td>\n",
       "      <td>0.975402</td>\n",
       "    </tr>\n",
       "  </tbody>\n",
       "</table>\n",
       "</div>"
      ],
      "text/plain": [
       "                  energy_sum  energy_max\n",
       "Acorn   stdorToU                        \n",
       "ACORN-A Std        20.176322    1.310320\n",
       "        ToU        15.983221    1.079479\n",
       "ACORN-B Std        11.362745    0.862655\n",
       "        ToU        14.816028    1.055368\n",
       "ACORN-C Std        12.466021    0.969860\n",
       "        ToU        10.360740    0.937053\n",
       "ACORN-D Std        13.898305    1.004958\n",
       "        ToU        12.837010    0.980037\n",
       "ACORN-E Std        10.668145    0.876887\n",
       "        ToU         9.392043    0.800718\n",
       "ACORN-F Std         9.371257    0.756990\n",
       "        ToU         8.711803    0.716672\n",
       "ACORN-G Std        10.555980    0.908733\n",
       "        ToU         9.019109    0.780881\n",
       "ACORN-H Std        11.227942    0.893085\n",
       "        ToU        10.225540    0.811497\n",
       "ACORN-I Std         9.429555    0.798303\n",
       "        ToU         9.713887    0.834904\n",
       "ACORN-J Std        12.035216    1.152796\n",
       "        ToU         9.666608    0.852311\n",
       "ACORN-K Std        10.047962    0.832264\n",
       "        ToU        10.130785    0.770944\n",
       "ACORN-L Std        10.330252    0.840907\n",
       "        ToU         9.132298    0.839893\n",
       "ACORN-M Std         9.903523    0.850123\n",
       "        ToU        10.828620    0.924430\n",
       "ACORN-N Std         9.194234    0.788204\n",
       "        ToU         9.579152    0.779315\n",
       "ACORN-O Std         8.544080    0.770820\n",
       "        ToU         8.766600    0.834252\n",
       "ACORN-P Std         7.321499    0.851204\n",
       "        ToU         3.849519    0.411216\n",
       "ACORN-Q Std         7.651949    0.681974\n",
       "        ToU         7.277686    0.623380\n",
       "ACORN-U Std        11.877796    0.906375\n",
       "        ToU        10.913723    0.975402"
      ]
     },
     "execution_count": 23,
     "metadata": {},
     "output_type": "execute_result"
    }
   ],
   "source": [
    "counter_type_consumption = daily_dataset_with_hh_info[\n",
    "    (daily_dataset_with_hh_info['energy_count'] == 48) &\n",
    "    (daily_dataset_with_hh_info['Acorn'] != 'ACORN-')\n",
    "].groupby(by = ['Acorn', 'stdorToU'])['energy_sum', 'energy_max'].mean()\n",
    "counter_type_consumption['energy_sum']"
   ]
  },
  {
   "cell_type": "markdown",
   "metadata": {},
   "source": [
    "#### Тут видим что в среднем, там где установлен многотарифный стчетчик, - потребление энергии меньше"
   ]
  },
  {
   "cell_type": "code",
   "execution_count": 61,
   "metadata": {},
   "outputs": [
    {
     "data": {
      "text/html": [
       "<div>\n",
       "<style scoped>\n",
       "    .dataframe tbody tr th:only-of-type {\n",
       "        vertical-align: middle;\n",
       "    }\n",
       "\n",
       "    .dataframe tbody tr th {\n",
       "        vertical-align: top;\n",
       "    }\n",
       "\n",
       "    .dataframe thead th {\n",
       "        text-align: right;\n",
       "    }\n",
       "</style>\n",
       "<table border=\"1\" class=\"dataframe\">\n",
       "  <thead>\n",
       "    <tr style=\"text-align: right;\">\n",
       "      <th></th>\n",
       "      <th>energy_sum</th>\n",
       "      <th>energy_max</th>\n",
       "    </tr>\n",
       "    <tr>\n",
       "      <th>stdorToU</th>\n",
       "      <th></th>\n",
       "      <th></th>\n",
       "    </tr>\n",
       "  </thead>\n",
       "  <tbody>\n",
       "    <tr>\n",
       "      <th>Std</th>\n",
       "      <td>10.323564</td>\n",
       "      <td>0.847467</td>\n",
       "    </tr>\n",
       "    <tr>\n",
       "      <th>ToU</th>\n",
       "      <td>9.531409</td>\n",
       "      <td>0.794422</td>\n",
       "    </tr>\n",
       "  </tbody>\n",
       "</table>\n",
       "</div>"
      ],
      "text/plain": [
       "          energy_sum  energy_max\n",
       "stdorToU                        \n",
       "Std        10.323564    0.847467\n",
       "ToU         9.531409    0.794422"
      ]
     },
     "execution_count": 61,
     "metadata": {},
     "output_type": "execute_result"
    }
   ],
   "source": [
    "daily_dataset_with_hh_info[\n",
    "    (daily_dataset_with_hh_info['energy_count'] == 48) &\n",
    "    (daily_dataset_with_hh_info['Acorn'] != 'ACORN-')\n",
    "].groupby(by = 'stdorToU')['energy_sum', 'energy_max'].mean()"
   ]
  },
  {
   "cell_type": "code",
   "execution_count": 58,
   "metadata": {},
   "outputs": [],
   "source": [
    "# def counter_consumption(row):\n",
    "#     print(row[])\n",
    "#     return row['Acorn']"
   ]
  },
  {
   "cell_type": "code",
   "execution_count": 59,
   "metadata": {},
   "outputs": [],
   "source": [
    "acorns = pd.DataFrame({'Acorn': 'ACORN-A ACORN-B ACORN-C ACORN-D ACORN-E ACORN-F ACORN-G ACORN-H ACORN-I ACORN-J ACORN-K ACORN-L ACORN-M ACORN-N ACORN-O ACORN-P ACORN-Q ACORN-U'.split()})\n",
    "#acorns['ToU'] = counter_type_consumption.apply(counter_consumption)\n",
    "#acorns['ToU'] = acorns.apply(counter_consumption)"
   ]
  }
 ],
 "metadata": {
  "kernelspec": {
   "display_name": "Python 3",
   "language": "python",
   "name": "python3"
  },
  "language_info": {
   "codemirror_mode": {
    "name": "ipython",
    "version": 3
   },
   "file_extension": ".py",
   "mimetype": "text/x-python",
   "name": "python",
   "nbconvert_exporter": "python",
   "pygments_lexer": "ipython3",
   "version": "3.7.3"
  }
 },
 "nbformat": 4,
 "nbformat_minor": 2
}
